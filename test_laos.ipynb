{
 "cells": [
  {
   "cell_type": "code",
   "execution_count": 1,
   "metadata": {},
   "outputs": [],
   "source": [
    "from pathlib import Path\n",
    "\n",
    "import folium\n",
    "import matplotlib.pyplot as plt\n",
    "from rasterio.plot import show as rioshow\n",
    "\n",
    "from hydronetworks import HydroNetworks"
   ]
  },
  {
   "cell_type": "code",
   "execution_count": 2,
   "metadata": {},
   "outputs": [],
   "source": [
    "import os\n",
    "import pandas as pd\n",
    "import rasterio\n",
    "from rasterio.mask import mask\n",
    "import geopandas as gpd\n",
    "from shapely.geometry import mapping,shape\n",
    "\n",
    "from shapely.geometry import LineString, MultiLineString\n"
   ]
  },
  {
   "cell_type": "code",
   "execution_count": 4,
   "metadata": {},
   "outputs": [],
   "source": [
    "\n",
    "def clip_raster_to_boundary(raster_path, gpkg_path, output_path):\n",
    "    \"\"\"\n",
    "    Clips a raster to the boundary defined in a GeoPackage file.\n",
    "\n",
    "    Parameters:\n",
    "    raster_path (str): The path to the input raster file (.tif).\n",
    "    gpkg_path (str): The path to the GeoPackage file (.gpkg) containing the boundary.\n",
    "    output_path (str): The path to save the clipped raster file.\n",
    "\n",
    "    Returns:\n",
    "    None\n",
    "    \"\"\"\n",
    "    # Load the boundary GeoPackage file\n",
    "    boundary = gpd.read_file(gpkg_path)\n",
    "\n",
    "    # Ensure the GeoDataFrame is in the same coordinate reference system (CRS) as the raster\n",
    "    with rasterio.open(raster_path) as src:\n",
    "        raster_crs = src.crs\n",
    "        boundary = boundary.to_crs(raster_crs)\n",
    "\n",
    "        # Get the geometry as a GeoJSON-like dict\n",
    "        geometry = [mapping(boundary['geometry'].values[0])]\n",
    "\n",
    "        # Mask the raster with the boundary\n",
    "        out_image, out_transform = mask(src, geometry, crop=True)\n",
    "        out_meta = src.meta.copy()\n",
    "\n",
    "    # Update the metadata to match the new cropped area\n",
    "    out_meta.update({\n",
    "        \"driver\": \"GTiff\",\n",
    "        \"height\": out_image.shape[1],\n",
    "        \"width\": out_image.shape[2],\n",
    "        \"transform\": out_transform\n",
    "    })\n",
    "\n",
    "    # Save the clipped raster to a new file\n",
    "    with rasterio.open(output_path, 'w', **out_meta) as dest:\n",
    "        dest.write(out_image)\n",
    "\n",
    "    print(f\"Clipping completed. The new file is saved as '{output_path}'.\")\n",
    "\n"
   ]
  },
  {
   "cell_type": "code",
   "execution_count": 6,
   "metadata": {},
   "outputs": [
    {
     "name": "stdout",
     "output_type": "stream",
     "text": [
      "Clipping completed. The new file is saved as 'data_laos/dem_laos_void.tif'.\n"
     ]
    }
   ],
   "source": [
    "## For exluding slope select void-filled DEM (15s resolution)\n",
    "raster_path = 'data_laos/hyd_as_dem_15s.tif'\n",
    "gpkg_path = 'data_laos/Archive/Laos.gpkg'\n",
    "output_path = 'data_laos/dem_laos_void.tif'\n",
    "clip_raster_to_boundary(raster_path,gpkg_path,output_path)"
   ]
  },
  {
   "cell_type": "code",
   "execution_count": 18,
   "metadata": {},
   "outputs": [
    {
     "name": "stdout",
     "output_type": "stream",
     "text": [
      "Clipping completed. The new file is saved as 'data_laos/dem_laos.tif'.\n"
     ]
    }
   ],
   "source": [
    "raster_path = 'data_laos/dem_con_asia.tif'\n",
    "gpkg_path = 'data_laos/Laos.gpkg'\n",
    "output_path = 'data_laos/dem_laos.tif'\n",
    "\n",
    "clip_raster_to_boundary(raster_path,gpkg_path,output_path)"
   ]
  },
  {
   "cell_type": "code",
   "execution_count": 19,
   "metadata": {},
   "outputs": [
    {
     "name": "stdout",
     "output_type": "stream",
     "text": [
      "Clipping completed. The new file is saved as 'data_laos/flow_laos.tif'.\n"
     ]
    }
   ],
   "source": [
    "raster_path = 'data_laos/flow_asia.tif'\n",
    "gpkg_path = 'data_laos/Laos.gpkg'\n",
    "output_path = 'data_laos/flow_laos.tif'\n",
    "\n",
    "clip_raster_to_boundary(raster_path,gpkg_path,output_path)"
   ]
  },
  {
   "cell_type": "code",
   "execution_count": 57,
   "metadata": {},
   "outputs": [
    {
     "name": "stdout",
     "output_type": "stream",
     "text": [
      "Clipping completed. The new file is saved as 'data_laos/flowacc_laos.tif'.\n"
     ]
    }
   ],
   "source": [
    "raster_path = 'data_laos/as_acc_3s.tif'\n",
    "gpkg_path = 'data_laos/Laos.gpkg'\n",
    "output_path = 'data_laos/flowacc_laos.tif'\n",
    "\n",
    "clip_raster_to_boundary(raster_path,gpkg_path,output_path)"
   ]
  },
  {
   "cell_type": "code",
   "execution_count": 59,
   "metadata": {},
   "outputs": [],
   "source": [
    "\n",
    "def clip_and_combine_shapefiles_to_geojson(shapefile_folder, gpkg_path, output_geojson_path):\n",
    "    \"\"\"\n",
    "    Clips all shapefiles in a folder to the boundary defined in a GeoPackage file and saves the combined result as a single GeoJSON file.\n",
    "\n",
    "    Parameters:\n",
    "    shapefile_folder (str): The path to the folder containing input shapefiles.\n",
    "    gpkg_path (str): The path to the GeoPackage file (.gpkg) containing the boundary.\n",
    "    output_geojson_path (str): The path to save the combined clipped region boundary as a GeoJSON file.\n",
    "\n",
    "    Returns:\n",
    "    None\n",
    "    \"\"\"\n",
    "    # Load the boundary from the GeoPackage file\n",
    "    boundary = gpd.read_file(gpkg_path)\n",
    "\n",
    "    # Initialize an empty GeoDataFrame with the same CRS as the boundary GeoDataFrame\n",
    "    combined_gdf = gpd.GeoDataFrame(crs=boundary.crs, geometry=[])\n",
    "\n",
    "    # Process each shapefile in the folder\n",
    "    for shapefile in os.listdir(shapefile_folder):\n",
    "        if shapefile.endswith('.shp'):\n",
    "            shapefile_path = os.path.join(shapefile_folder, shapefile)\n",
    "\n",
    "            try:\n",
    "                # Load the shapefile\n",
    "                data = gpd.read_file(shapefile_path)\n",
    "\n",
    "                # Ensure the data is in the same coordinate reference system (CRS) as the boundary\n",
    "                data = data.to_crs(boundary.crs)\n",
    "\n",
    "                # Clip the shapefile with the boundary\n",
    "                clipped = gpd.clip(data, boundary)\n",
    "\n",
    "                # Append the clipped data to the combined GeoDataFrame\n",
    "                combined_gdf = pd.concat([combined_gdf, clipped], ignore_index=True)\n",
    "\n",
    "                print(f\"Clipping completed for {shapefile}.\")\n",
    "            except Exception as e:\n",
    "                print(f\"Error processing {shapefile}: {e}\")\n",
    "\n",
    "    # Remove duplicates\n",
    "    combined_gdf = combined_gdf.drop_duplicates()\n",
    "\n",
    "    # Ensure the combined GeoDataFrame has an active geometry column\n",
    "    if 'geometry' in combined_gdf:\n",
    "        combined_gdf.set_geometry('geometry', inplace=True)\n",
    "\n",
    "    # Check if the GeoDataFrame is not empty before saving\n",
    "    if not combined_gdf.empty:\n",
    "        # Save the combined clipped data as a GeoJSON file\n",
    "        combined_gdf.to_file(output_geojson_path, driver='GeoJSON')\n",
    "        print(f\"Clipping and combining completed. The new file is saved as '{output_geojson_path}'.\")\n",
    "    else:\n",
    "        print(\"No valid geometries found. The combined GeoDataFrame is empty.\")\n"
   ]
  },
  {
   "cell_type": "code",
   "execution_count": 60,
   "metadata": {},
   "outputs": [],
   "source": [
    "shapefile_path = 'data_laos/HydroRIVERS_v10_as_shp/'\n",
    "gpkg_path = 'data_laos/Laos.gpkg'\n",
    "output_path = 'data_laos/rivers.geojson'"
   ]
  },
  {
   "cell_type": "code",
   "execution_count": 61,
   "metadata": {},
   "outputs": [
    {
     "name": "stdout",
     "output_type": "stream",
     "text": [
      "Clipping completed for HydroRIVERS_v10_as.shp.\n",
      "Clipping and combining completed. The new file is saved as 'data_laos/rivers.geojson'.\n"
     ]
    }
   ],
   "source": [
    "clip_and_combine_shapefiles_to_geojson(shapefile_path, gpkg_path, output_path)\n"
   ]
  },
  {
   "cell_type": "code",
   "execution_count": 76,
   "metadata": {},
   "outputs": [
    {
     "name": "stdout",
     "output_type": "stream",
     "text": [
      "Saved 24098 LineString geometries to data_laos/rivers_linestrings.geojson\n"
     ]
    }
   ],
   "source": [
    "\n",
    "# Load the original GeoJSON file\n",
    "input_path = 'data_laos/rivers.geojson'\n",
    "output_path = 'data_laos/rivers_linestrings.geojson'\n",
    "\n",
    "# Read the GeoDataFrame\n",
    "gdf = gpd.read_file(input_path)\n",
    "\n",
    "# List to hold individual LineString geometries\n",
    "line_strings = []\n",
    "\n",
    "# Iterate through each geometry in the GeoDataFrame\n",
    "for geom in gdf.geometry:\n",
    "    if isinstance(geom, LineString):\n",
    "        line_strings.append(geom)\n",
    "    elif isinstance(geom, MultiLineString):\n",
    "        for line in geom.geoms:  # Use .geoms to iterate over LineString components\n",
    "            line_strings.append(line)\n",
    "\n",
    "# Create a new GeoDataFrame with the LineString geometries\n",
    "new_gdf = gpd.GeoDataFrame(geometry=line_strings, crs=gdf.crs)\n",
    "\n",
    "# Save the new GeoDataFrame to a new GeoJSON file\n",
    "new_gdf.to_file(output_path, driver='GeoJSON')\n",
    "\n",
    "print(f\"Saved {len(line_strings)} LineString geometries to {output_path}\")\n"
   ]
  },
  {
   "cell_type": "markdown",
   "metadata": {},
   "source": [
    "#### Cut-out area around each hydropower plant separately\n",
    "The idea is to cut out the area, relocate from the selected point to the nearest point at the river and then follow the network creation, as outlined in hydronetworks"
   ]
  },
  {
   "cell_type": "code",
   "execution_count": 64,
   "metadata": {},
   "outputs": [],
   "source": [
    "from shapely.geometry import Point\n",
    "from shapely.ops import nearest_points\n",
    "\n",
    "def nearest_river(point, rivers):\n",
    "    # Find the nearest river\n",
    "    nearest_geom = rivers.geometry.unary_union\n",
    "    nearest_point = nearest_points(point, nearest_geom)[1]\n",
    "    return nearest_point\n"
   ]
  },
  {
   "cell_type": "code",
   "execution_count": 77,
   "metadata": {},
   "outputs": [],
   "source": [
    "hydropower_points = gpd.read_file('data_laos/hydropower_dams.gpkg')\n",
    "rivers_gdf = gpd.read_file('data_laos/rivers_linestrings.geojson')"
   ]
  },
  {
   "cell_type": "code",
   "execution_count": 75,
   "metadata": {},
   "outputs": [],
   "source": [
    "# Ensure both GeoDataFrames are in the same CRS\n",
    "if hydropower_points.crs != rivers_gdf.crs:\n",
    "    rivers_gdf = rivers_gdf.to_crs(hydropower_points.crs)\n",
    "\n",
    "# Function to find the nearest point on the LineString\n",
    "def nearest_river(point, rivers):\n",
    "    # Find the nearest river\n",
    "    nearest_geom = rivers.geometry.unary_union\n",
    "    nearest_point = nearest_points(point, nearest_geom)[1]\n",
    "    return nearest_point\n",
    "\n",
    "# Create a new GeoDataFrame to store the relocated points\n",
    "relocated_points = hydropower_points.copy()\n",
    "\n",
    "# Apply the nearest river relocation to each point\n",
    "relocated_points['geometry'] = hydropower_points.apply(lambda row: nearest_river(row.geometry, rivers_gdf), axis=1)\n",
    "\n",
    "# Save the relocated points to a new file\n",
    "relocated_points.to_file('data_laos/relocated_points.gpkg', driver='GPKG')"
   ]
  },
  {
   "cell_type": "code",
   "execution_count": 84,
   "metadata": {},
   "outputs": [
    {
     "name": "stdout",
     "output_type": "stream",
     "text": [
      "Hydropower points CRS: EPSG:4326\n",
      "Rivers CRS: EPSG:4326\n",
      "Checking geometry validity...\n",
      "Relocation completed and saved to 'data_laos/relocated_hydropower_dams.gpkg'\n"
     ]
    }
   ],
   "source": [
    "import geopandas as gpd\n",
    "from shapely.ops import nearest_points\n",
    "from shapely.geometry import Point\n",
    "\n",
    "# Paths to the files\n",
    "hydropower_points_path = 'data_laos/hydropower_dams.gpkg'\n",
    "rivers_path = 'data_laos/rivers_linestrings.geojson'\n",
    "\n",
    "# Read the hydropower points from the GPKG file\n",
    "hydropower_points = gpd.read_file(hydropower_points_path)\n",
    "\n",
    "# Read the rivers from the GeoJSON file\n",
    "rivers_gdf = gpd.read_file(rivers_path)\n",
    "\n",
    "# Ensure both GeoDataFrames are in the same CRS\n",
    "if hydropower_points.crs != rivers_gdf.crs:\n",
    "    rivers_gdf = rivers_gdf.to_crs(hydropower_points.crs)\n",
    "\n",
    "# Verify CRS\n",
    "print(f\"Hydropower points CRS: {hydropower_points.crs}\")\n",
    "print(f\"Rivers CRS: {rivers_gdf.crs}\")\n",
    "\n",
    "# Check geometry validity\n",
    "print(\"Checking geometry validity...\")\n",
    "if not hydropower_points.is_valid.all():\n",
    "    hydropower_points['geometry'] = hydropower_points.buffer(0)\n",
    "if not rivers_gdf.is_valid.all():\n",
    "    rivers_gdf['geometry'] = rivers_gdf.buffer(0)\n",
    "\n",
    "# Function to find the nearest point on the LineString\n",
    "def nearest_river(point, rivers):\n",
    "    if not isinstance(point, Point):\n",
    "        raise TypeError(\"The input point must be a shapely Point object\")\n",
    "\n",
    "    nearest_point = None\n",
    "    min_distance = float('inf')\n",
    "    \n",
    "    # Iterate through each river line\n",
    "    for line in rivers.geometry:\n",
    "        if not line.is_empty:\n",
    "            candidate_point = nearest_points(point, line)[1]\n",
    "            distance = point.distance(candidate_point)\n",
    "            if distance < min_distance:\n",
    "                min_distance = distance\n",
    "                nearest_point = candidate_point\n",
    "\n",
    "    if nearest_point is None:\n",
    "        raise ValueError(\"No nearest river found\")\n",
    "        \n",
    "    return nearest_point\n",
    "\n",
    "# Create a new GeoDataFrame to store the relocated points\n",
    "relocated_points = hydropower_points.copy()\n",
    "\n",
    "# Apply the nearest river relocation to each point\n",
    "relocated_points['geometry'] = hydropower_points.apply(\n",
    "    lambda row: nearest_river(row.geometry, rivers_gdf) if isinstance(row.geometry, Point) else row.geometry, axis=1\n",
    ")\n",
    "\n",
    "# Save the relocated points to a new file\n",
    "output_path = 'data_laos/relocated_hydropower_dams.gpkg'\n",
    "relocated_points.to_file(output_path, driver='GPKG')\n",
    "\n",
    "print(f\"Relocation completed and saved to '{output_path}'\")\n"
   ]
  },
  {
   "cell_type": "code",
   "execution_count": 87,
   "metadata": {},
   "outputs": [],
   "source": [
    "import geopandas as gpd\n",
    "from shapely.geometry import Point\n",
    "from scipy.spatial import KDTree\n",
    "import numpy as np\n",
    "\n",
    "# Read the hydropower points and rivers\n",
    "hydropower_points = gpd.read_file('data_laos/hydropower_dams.gpkg')\n",
    "rivers_gdf = gpd.read_file('data_laos/rivers_linestrings.geojson')\n",
    "\n",
    "# Ensure both GeoDataFrames are in the same CRS\n",
    "if hydropower_points.crs != rivers_gdf.crs:\n",
    "    rivers_gdf = rivers_gdf.to_crs(hydropower_points.crs)\n",
    "\n",
    "# Extract coordinates of river lines\n",
    "river_coords = np.vstack(rivers_gdf.geometry.apply(lambda geom: np.array(geom.coords).tolist()).values)\n",
    "river_tree = KDTree(river_coords)\n",
    "\n",
    "# Function to find the nearest point using KDTree\n",
    "def nearest_river_kdtree(point):\n",
    "    dist, idx = river_tree.query(point.coords[0])\n",
    "    nearest_point = Point(river_coords[idx])\n",
    "    return nearest_point\n",
    "\n",
    "# Apply the KDTree nearest point calculation\n",
    "hydropower_points['geometry'] = hydropower_points.apply(\n",
    "    lambda row: nearest_river_kdtree(row.geometry) if isinstance(row.geometry, Point) else row.geometry, axis=1\n",
    ")\n",
    "\n",
    "# Save the relocated points to a new file\n",
    "hydropower_points.to_file('data_laos/relocated_hydropower_dams_kdtree.gpkg', driver='GPKG')\n"
   ]
  },
  {
   "cell_type": "code",
   "execution_count": 89,
   "metadata": {},
   "outputs": [],
   "source": [
    "import geopandas as gpd\n",
    "from shapely.geometry import Point\n",
    "from shapely.ops import nearest_points\n",
    "\n",
    "# Read the hydropower points and rivers\n",
    "hydropower_points = gpd.read_file('data_laos/hydropower_dams.gpkg')\n",
    "rivers_gdf = gpd.read_file('data_laos/rivers_linestrings.geojson')\n",
    "\n",
    "# Ensure both GeoDataFrames are in the same CRS\n",
    "if hydropower_points.crs != rivers_gdf.crs:\n",
    "    rivers_gdf = rivers_gdf.to_crs(hydropower_points.crs)\n",
    "\n",
    "# Function to find the nearest point on the LineString with optimization\n",
    "def nearest_river_iterative(point, rivers):\n",
    "    if not isinstance(point, Point):\n",
    "        raise TypeError(\"The input point must be a shapely Point object\")\n",
    "    \n",
    "    nearest_point = None\n",
    "    min_distance = float('inf')\n",
    "    \n",
    "    for line in rivers.geometry:\n",
    "        if not line.is_empty:\n",
    "            candidate_point = nearest_points(point, line)[1]\n",
    "            distance = point.distance(candidate_point)\n",
    "            if distance < min_distance:\n",
    "                min_distance = distance\n",
    "                nearest_point = candidate_point\n",
    "\n",
    "    if nearest_point is None:\n",
    "        raise ValueError(\"No nearest river found\")\n",
    "        \n",
    "    return nearest_point\n",
    "\n",
    "# Apply the iterative nearest point calculation\n",
    "hydropower_points['geometry'] = hydropower_points.apply(\n",
    "    lambda row: nearest_river_iterative(row.geometry, rivers_gdf) if isinstance(row.geometry, Point) else row.geometry, axis=1\n",
    ")\n",
    "\n",
    "# Save the relocated points to a new file\n",
    "hydropower_points.to_file('data_laos/relocated_hydropower_dams_iterative.gpkg', driver='GPKG')\n"
   ]
  },
  {
   "cell_type": "code",
   "execution_count": 92,
   "metadata": {},
   "outputs": [
    {
     "name": "stdout",
     "output_type": "stream",
     "text": [
      "Checking for invalid geometries in hydropower points...\n",
      "Checking for invalid geometries in rivers...\n"
     ]
    }
   ],
   "source": [
    "import geopandas as gpd\n",
    "from shapely.validation import explain_validity\n",
    "\n",
    "# Read the hydropower points and rivers\n",
    "hydropower_points = gpd.read_file('data_laos/hydropower_dams.gpkg')\n",
    "rivers_gdf = gpd.read_file('data_laos/rivers_linestrings.geojson')\n",
    "\n",
    "# Ensure both GeoDataFrames are in the same CRS\n",
    "if hydropower_points.crs != rivers_gdf.crs:\n",
    "    rivers_gdf = rivers_gdf.to_crs(hydropower_points.crs)\n",
    "\n",
    "# Check for invalid geometries\n",
    "print(\"Checking for invalid geometries in hydropower points...\")\n",
    "invalid_points = hydropower_points[~hydropower_points.is_valid]\n",
    "for idx, row in invalid_points.iterrows():\n",
    "    print(f\"Invalid Point {idx}: {explain_validity(row.geometry)}\")\n",
    "\n",
    "print(\"Checking for invalid geometries in rivers...\")\n",
    "invalid_rivers = rivers_gdf[~rivers_gdf.is_valid]\n",
    "for idx, row in invalid_rivers.iterrows():\n",
    "    print(f\"Invalid River {idx}: {explain_validity(row.geometry)}\")\n",
    "\n",
    "# Fix invalid geometries\n",
    "hydropower_points['geometry'] = hydropower_points.apply(\n",
    "    lambda row: row.geometry.buffer(0) if not row.geometry.is_valid else row.geometry, axis=1)\n",
    "rivers_gdf['geometry'] = rivers_gdf.apply(\n",
    "    lambda row: row.geometry.buffer(0) if not row.geometry.is_valid else row.geometry, axis=1)\n"
   ]
  }
 ],
 "metadata": {
  "kernelspec": {
   "display_name": "geoh2_master",
   "language": "python",
   "name": "python3"
  },
  "language_info": {
   "codemirror_mode": {
    "name": "ipython",
    "version": 3
   },
   "file_extension": ".py",
   "mimetype": "text/x-python",
   "name": "python",
   "nbconvert_exporter": "python",
   "pygments_lexer": "ipython3",
   "version": "3.11.8"
  }
 },
 "nbformat": 4,
 "nbformat_minor": 2
}
